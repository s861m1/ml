{
 "cells": [
  {
   "cell_type": "code",
   "execution_count": 1,
   "metadata": {},
   "outputs": [
    {
     "name": "stdout",
     "output_type": "stream",
     "text": [
      "Requirement already satisfied: lightgbm in /opt/conda/lib/python3.10/site-packages (4.5.0)\n",
      "Requirement already satisfied: numpy>=1.17.0 in /opt/conda/lib/python3.10/site-packages (from lightgbm) (1.23.5)\n",
      "Requirement already satisfied: scipy in /opt/conda/lib/python3.10/site-packages (from lightgbm) (1.11.3)\n",
      "\u001b[33mWARNING: Running pip as the 'root' user can result in broken permissions and conflicting behaviour with the system package manager. It is recommended to use a virtual environment instead: https://pip.pypa.io/warnings/venv\u001b[0m\u001b[33m\n",
      "\u001b[0mRequirement already satisfied: scikit-learn in /opt/conda/lib/python3.10/site-packages (1.2.2)\n",
      "Requirement already satisfied: numpy>=1.17.3 in /opt/conda/lib/python3.10/site-packages (from scikit-learn) (1.23.5)\n",
      "Requirement already satisfied: scipy>=1.3.2 in /opt/conda/lib/python3.10/site-packages (from scikit-learn) (1.11.3)\n",
      "Requirement already satisfied: joblib>=1.1.1 in /opt/conda/lib/python3.10/site-packages (from scikit-learn) (1.3.2)\n",
      "Requirement already satisfied: threadpoolctl>=2.0.0 in /opt/conda/lib/python3.10/site-packages (from scikit-learn) (3.2.0)\n",
      "\u001b[33mWARNING: Running pip as the 'root' user can result in broken permissions and conflicting behaviour with the system package manager. It is recommended to use a virtual environment instead: https://pip.pypa.io/warnings/venv\u001b[0m\u001b[33m\n",
      "\u001b[0mRequirement already satisfied: jupyter in /opt/conda/lib/python3.10/site-packages (1.1.1)\n",
      "Requirement already satisfied: notebook in /opt/conda/lib/python3.10/site-packages (7.2.2)\n",
      "Requirement already satisfied: ipykernel in /opt/conda/lib/python3.10/site-packages (6.29.5)\n",
      "Requirement already satisfied: jupyter-console in /opt/conda/lib/python3.10/site-packages (from jupyter) (6.6.3)\n",
      "Requirement already satisfied: nbconvert in /opt/conda/lib/python3.10/site-packages (from jupyter) (7.12.0)\n",
      "Requirement already satisfied: ipywidgets in /opt/conda/lib/python3.10/site-packages (from jupyter) (8.1.1)\n",
      "Requirement already satisfied: jupyterlab in /opt/conda/lib/python3.10/site-packages (from jupyter) (4.2.5)\n",
      "Requirement already satisfied: jupyter-server<3,>=2.4.0 in /opt/conda/lib/python3.10/site-packages (from notebook) (2.12.1)\n",
      "Requirement already satisfied: jupyterlab-server<3,>=2.27.1 in /opt/conda/lib/python3.10/site-packages (from notebook) (2.27.3)\n",
      "Requirement already satisfied: notebook-shim<0.3,>=0.2 in /opt/conda/lib/python3.10/site-packages (from notebook) (0.2.3)\n",
      "Requirement already satisfied: tornado>=6.2.0 in /opt/conda/lib/python3.10/site-packages (from notebook) (6.4)\n",
      "Requirement already satisfied: comm>=0.1.1 in /opt/conda/lib/python3.10/site-packages (from ipykernel) (0.2.0)\n",
      "Requirement already satisfied: debugpy>=1.6.5 in /opt/conda/lib/python3.10/site-packages (from ipykernel) (1.8.0)\n",
      "Requirement already satisfied: ipython>=7.23.1 in /opt/conda/lib/python3.10/site-packages (from ipykernel) (8.15.0)\n",
      "Requirement already satisfied: jupyter-client>=6.1.12 in /opt/conda/lib/python3.10/site-packages (from ipykernel) (8.6.0)\n",
      "Requirement already satisfied: jupyter-core!=5.0.*,>=4.12 in /opt/conda/lib/python3.10/site-packages (from ipykernel) (5.5.0)\n",
      "Requirement already satisfied: matplotlib-inline>=0.1 in /opt/conda/lib/python3.10/site-packages (from ipykernel) (0.1.6)\n",
      "Requirement already satisfied: nest-asyncio in /opt/conda/lib/python3.10/site-packages (from ipykernel) (1.5.8)\n",
      "Requirement already satisfied: packaging in /opt/conda/lib/python3.10/site-packages (from ipykernel) (23.1)\n",
      "Requirement already satisfied: psutil in /opt/conda/lib/python3.10/site-packages (from ipykernel) (5.9.0)\n",
      "Requirement already satisfied: pyzmq>=24 in /opt/conda/lib/python3.10/site-packages (from ipykernel) (25.1.2)\n",
      "Requirement already satisfied: traitlets>=5.4.0 in /opt/conda/lib/python3.10/site-packages (from ipykernel) (5.7.1)\n",
      "Requirement already satisfied: backcall in /opt/conda/lib/python3.10/site-packages (from ipython>=7.23.1->ipykernel) (0.2.0)\n",
      "Requirement already satisfied: decorator in /opt/conda/lib/python3.10/site-packages (from ipython>=7.23.1->ipykernel) (5.1.1)\n",
      "Requirement already satisfied: jedi>=0.16 in /opt/conda/lib/python3.10/site-packages (from ipython>=7.23.1->ipykernel) (0.18.1)\n",
      "Requirement already satisfied: pickleshare in /opt/conda/lib/python3.10/site-packages (from ipython>=7.23.1->ipykernel) (0.7.5)\n",
      "Requirement already satisfied: prompt-toolkit!=3.0.37,<3.1.0,>=3.0.30 in /opt/conda/lib/python3.10/site-packages (from ipython>=7.23.1->ipykernel) (3.0.36)\n",
      "Requirement already satisfied: pygments>=2.4.0 in /opt/conda/lib/python3.10/site-packages (from ipython>=7.23.1->ipykernel) (2.15.1)\n",
      "Requirement already satisfied: stack-data in /opt/conda/lib/python3.10/site-packages (from ipython>=7.23.1->ipykernel) (0.2.0)\n",
      "Requirement already satisfied: exceptiongroup in /opt/conda/lib/python3.10/site-packages (from ipython>=7.23.1->ipykernel) (1.0.4)\n",
      "Requirement already satisfied: pexpect>4.3 in /opt/conda/lib/python3.10/site-packages (from ipython>=7.23.1->ipykernel) (4.8.0)\n",
      "Requirement already satisfied: python-dateutil>=2.8.2 in /opt/conda/lib/python3.10/site-packages (from jupyter-client>=6.1.12->ipykernel) (2.8.2)\n",
      "Requirement already satisfied: platformdirs>=2.5 in /opt/conda/lib/python3.10/site-packages (from jupyter-core!=5.0.*,>=4.12->ipykernel) (4.1.0)\n",
      "Requirement already satisfied: anyio>=3.1.0 in /opt/conda/lib/python3.10/site-packages (from jupyter-server<3,>=2.4.0->notebook) (4.1.0)\n",
      "Requirement already satisfied: argon2-cffi in /opt/conda/lib/python3.10/site-packages (from jupyter-server<3,>=2.4.0->notebook) (23.1.0)\n",
      "Requirement already satisfied: jinja2 in /opt/conda/lib/python3.10/site-packages (from jupyter-server<3,>=2.4.0->notebook) (3.1.2)\n",
      "Requirement already satisfied: jupyter-events>=0.9.0 in /opt/conda/lib/python3.10/site-packages (from jupyter-server<3,>=2.4.0->notebook) (0.9.0)\n",
      "Requirement already satisfied: jupyter-server-terminals in /opt/conda/lib/python3.10/site-packages (from jupyter-server<3,>=2.4.0->notebook) (0.5.0)\n",
      "Requirement already satisfied: nbformat>=5.3.0 in /opt/conda/lib/python3.10/site-packages (from jupyter-server<3,>=2.4.0->notebook) (5.9.2)\n",
      "Requirement already satisfied: overrides in /opt/conda/lib/python3.10/site-packages (from jupyter-server<3,>=2.4.0->notebook) (7.4.0)\n",
      "Requirement already satisfied: prometheus-client in /opt/conda/lib/python3.10/site-packages (from jupyter-server<3,>=2.4.0->notebook) (0.19.0)\n",
      "Requirement already satisfied: send2trash>=1.8.2 in /opt/conda/lib/python3.10/site-packages (from jupyter-server<3,>=2.4.0->notebook) (1.8.2)\n",
      "Requirement already satisfied: terminado>=0.8.3 in /opt/conda/lib/python3.10/site-packages (from jupyter-server<3,>=2.4.0->notebook) (0.18.0)\n",
      "Requirement already satisfied: websocket-client in /opt/conda/lib/python3.10/site-packages (from jupyter-server<3,>=2.4.0->notebook) (1.7.0)\n",
      "Requirement already satisfied: async-lru>=1.0.0 in /opt/conda/lib/python3.10/site-packages (from jupyterlab->jupyter) (2.0.4)\n",
      "Requirement already satisfied: httpx>=0.25.0 in /opt/conda/lib/python3.10/site-packages (from jupyterlab->jupyter) (0.27.2)\n",
      "Requirement already satisfied: jupyter-lsp>=2.0.0 in /opt/conda/lib/python3.10/site-packages (from jupyterlab->jupyter) (2.2.1)\n",
      "Requirement already satisfied: setuptools>=40.1.0 in /opt/conda/lib/python3.10/site-packages (from jupyterlab->jupyter) (68.0.0)\n",
      "Requirement already satisfied: tomli>=1.2.2 in /opt/conda/lib/python3.10/site-packages (from jupyterlab->jupyter) (2.0.1)\n",
      "Requirement already satisfied: babel>=2.10 in /opt/conda/lib/python3.10/site-packages (from jupyterlab-server<3,>=2.27.1->notebook) (2.13.1)\n",
      "Requirement already satisfied: json5>=0.9.0 in /opt/conda/lib/python3.10/site-packages (from jupyterlab-server<3,>=2.27.1->notebook) (0.9.14)\n",
      "Requirement already satisfied: jsonschema>=4.18.0 in /opt/conda/lib/python3.10/site-packages (from jupyterlab-server<3,>=2.27.1->notebook) (4.20.0)\n",
      "Requirement already satisfied: requests>=2.31 in /opt/conda/lib/python3.10/site-packages (from jupyterlab-server<3,>=2.27.1->notebook) (2.31.0)\n",
      "Requirement already satisfied: beautifulsoup4 in /opt/conda/lib/python3.10/site-packages (from nbconvert->jupyter) (4.12.2)\n",
      "Requirement already satisfied: bleach!=5.0.0 in /opt/conda/lib/python3.10/site-packages (from nbconvert->jupyter) (6.1.0)\n",
      "Requirement already satisfied: defusedxml in /opt/conda/lib/python3.10/site-packages (from nbconvert->jupyter) (0.7.1)\n",
      "Requirement already satisfied: jupyterlab-pygments in /opt/conda/lib/python3.10/site-packages (from nbconvert->jupyter) (0.3.0)\n",
      "Requirement already satisfied: markupsafe>=2.0 in /opt/conda/lib/python3.10/site-packages (from nbconvert->jupyter) (2.1.1)\n",
      "Requirement already satisfied: mistune<4,>=2.0.3 in /opt/conda/lib/python3.10/site-packages (from nbconvert->jupyter) (3.0.2)\n",
      "Requirement already satisfied: nbclient>=0.5.0 in /opt/conda/lib/python3.10/site-packages (from nbconvert->jupyter) (0.9.0)\n",
      "Requirement already satisfied: pandocfilters>=1.4.1 in /opt/conda/lib/python3.10/site-packages (from nbconvert->jupyter) (1.5.0)\n",
      "Requirement already satisfied: tinycss2 in /opt/conda/lib/python3.10/site-packages (from nbconvert->jupyter) (1.2.1)\n",
      "Requirement already satisfied: widgetsnbextension~=4.0.9 in /opt/conda/lib/python3.10/site-packages (from ipywidgets->jupyter) (4.0.9)\n",
      "Requirement already satisfied: jupyterlab-widgets~=3.0.9 in /opt/conda/lib/python3.10/site-packages (from ipywidgets->jupyter) (3.0.9)\n",
      "Requirement already satisfied: idna>=2.8 in /opt/conda/lib/python3.10/site-packages (from anyio>=3.1.0->jupyter-server<3,>=2.4.0->notebook) (3.4)\n",
      "Requirement already satisfied: sniffio>=1.1 in /opt/conda/lib/python3.10/site-packages (from anyio>=3.1.0->jupyter-server<3,>=2.4.0->notebook) (1.3.0)\n",
      "Requirement already satisfied: typing-extensions>=4.0.0 in /opt/conda/lib/python3.10/site-packages (from async-lru>=1.0.0->jupyterlab->jupyter) (4.7.1)\n",
      "Requirement already satisfied: six>=1.9.0 in /opt/conda/lib/python3.10/site-packages (from bleach!=5.0.0->nbconvert->jupyter) (1.16.0)\n",
      "Requirement already satisfied: webencodings in /opt/conda/lib/python3.10/site-packages (from bleach!=5.0.0->nbconvert->jupyter) (0.5.1)\n",
      "Requirement already satisfied: certifi in /opt/conda/lib/python3.10/site-packages (from httpx>=0.25.0->jupyterlab->jupyter) (2023.7.22)\n",
      "Requirement already satisfied: httpcore==1.* in /opt/conda/lib/python3.10/site-packages (from httpx>=0.25.0->jupyterlab->jupyter) (1.0.6)\n",
      "Requirement already satisfied: h11<0.15,>=0.13 in /opt/conda/lib/python3.10/site-packages (from httpcore==1.*->httpx>=0.25.0->jupyterlab->jupyter) (0.14.0)\n",
      "Requirement already satisfied: parso<0.9.0,>=0.8.0 in /opt/conda/lib/python3.10/site-packages (from jedi>=0.16->ipython>=7.23.1->ipykernel) (0.8.3)\n",
      "Requirement already satisfied: attrs>=22.2.0 in /opt/conda/lib/python3.10/site-packages (from jsonschema>=4.18.0->jupyterlab-server<3,>=2.27.1->notebook) (23.1.0)\n",
      "Requirement already satisfied: jsonschema-specifications>=2023.03.6 in /opt/conda/lib/python3.10/site-packages (from jsonschema>=4.18.0->jupyterlab-server<3,>=2.27.1->notebook) (2023.11.2)\n",
      "Requirement already satisfied: referencing>=0.28.4 in /opt/conda/lib/python3.10/site-packages (from jsonschema>=4.18.0->jupyterlab-server<3,>=2.27.1->notebook) (0.32.0)\n",
      "Requirement already satisfied: rpds-py>=0.7.1 in /opt/conda/lib/python3.10/site-packages (from jsonschema>=4.18.0->jupyterlab-server<3,>=2.27.1->notebook) (0.13.2)\n",
      "Requirement already satisfied: python-json-logger>=2.0.4 in /opt/conda/lib/python3.10/site-packages (from jupyter-events>=0.9.0->jupyter-server<3,>=2.4.0->notebook) (2.0.7)\n",
      "Requirement already satisfied: pyyaml>=5.3 in /opt/conda/lib/python3.10/site-packages (from jupyter-events>=0.9.0->jupyter-server<3,>=2.4.0->notebook) (6.0)\n",
      "Requirement already satisfied: rfc3339-validator in /opt/conda/lib/python3.10/site-packages (from jupyter-events>=0.9.0->jupyter-server<3,>=2.4.0->notebook) (0.1.4)\n",
      "Requirement already satisfied: rfc3986-validator>=0.1.1 in /opt/conda/lib/python3.10/site-packages (from jupyter-events>=0.9.0->jupyter-server<3,>=2.4.0->notebook) (0.1.1)\n",
      "Requirement already satisfied: fastjsonschema in /opt/conda/lib/python3.10/site-packages (from nbformat>=5.3.0->jupyter-server<3,>=2.4.0->notebook) (2.19.0)\n",
      "Requirement already satisfied: ptyprocess>=0.5 in /opt/conda/lib/python3.10/site-packages (from pexpect>4.3->ipython>=7.23.1->ipykernel) (0.7.0)\n",
      "Requirement already satisfied: wcwidth in /opt/conda/lib/python3.10/site-packages (from prompt-toolkit!=3.0.37,<3.1.0,>=3.0.30->ipython>=7.23.1->ipykernel) (0.2.5)\n",
      "Requirement already satisfied: charset-normalizer<4,>=2 in /opt/conda/lib/python3.10/site-packages (from requests>=2.31->jupyterlab-server<3,>=2.27.1->notebook) (2.0.4)\n",
      "Requirement already satisfied: urllib3<3,>=1.21.1 in /opt/conda/lib/python3.10/site-packages (from requests>=2.31->jupyterlab-server<3,>=2.27.1->notebook) (1.26.16)\n",
      "Requirement already satisfied: argon2-cffi-bindings in /opt/conda/lib/python3.10/site-packages (from argon2-cffi->jupyter-server<3,>=2.4.0->notebook) (21.2.0)\n",
      "Requirement already satisfied: soupsieve>1.2 in /opt/conda/lib/python3.10/site-packages (from beautifulsoup4->nbconvert->jupyter) (2.5)\n",
      "Requirement already satisfied: executing in /opt/conda/lib/python3.10/site-packages (from stack-data->ipython>=7.23.1->ipykernel) (0.8.3)\n",
      "Requirement already satisfied: asttokens in /opt/conda/lib/python3.10/site-packages (from stack-data->ipython>=7.23.1->ipykernel) (2.0.5)\n",
      "Requirement already satisfied: pure-eval in /opt/conda/lib/python3.10/site-packages (from stack-data->ipython>=7.23.1->ipykernel) (0.2.2)\n",
      "Requirement already satisfied: fqdn in /opt/conda/lib/python3.10/site-packages (from jsonschema>=4.18.0->jupyterlab-server<3,>=2.27.1->notebook) (1.5.1)\n",
      "Requirement already satisfied: isoduration in /opt/conda/lib/python3.10/site-packages (from jsonschema>=4.18.0->jupyterlab-server<3,>=2.27.1->notebook) (20.11.0)\n",
      "Requirement already satisfied: jsonpointer>1.13 in /opt/conda/lib/python3.10/site-packages (from jsonschema>=4.18.0->jupyterlab-server<3,>=2.27.1->notebook) (2.1)\n",
      "Requirement already satisfied: uri-template in /opt/conda/lib/python3.10/site-packages (from jsonschema>=4.18.0->jupyterlab-server<3,>=2.27.1->notebook) (1.3.0)\n",
      "Requirement already satisfied: webcolors>=1.11 in /opt/conda/lib/python3.10/site-packages (from jsonschema>=4.18.0->jupyterlab-server<3,>=2.27.1->notebook) (1.13)\n",
      "Requirement already satisfied: cffi>=1.0.1 in /opt/conda/lib/python3.10/site-packages (from argon2-cffi-bindings->argon2-cffi->jupyter-server<3,>=2.4.0->notebook) (1.15.1)\n",
      "Requirement already satisfied: pycparser in /opt/conda/lib/python3.10/site-packages (from cffi>=1.0.1->argon2-cffi-bindings->argon2-cffi->jupyter-server<3,>=2.4.0->notebook) (2.21)\n",
      "Requirement already satisfied: arrow>=0.15.0 in /opt/conda/lib/python3.10/site-packages (from isoduration->jsonschema>=4.18.0->jupyterlab-server<3,>=2.27.1->notebook) (1.3.0)\n",
      "Requirement already satisfied: types-python-dateutil>=2.8.10 in /opt/conda/lib/python3.10/site-packages (from arrow>=0.15.0->isoduration->jsonschema>=4.18.0->jupyterlab-server<3,>=2.27.1->notebook) (2.8.19.14)\n",
      "\u001b[33mWARNING: Running pip as the 'root' user can result in broken permissions and conflicting behaviour with the system package manager. It is recommended to use a virtual environment instead: https://pip.pypa.io/warnings/venv\u001b[0m\u001b[33m\n",
      "\u001b[0mRequirement already satisfied: xgboost in /opt/conda/lib/python3.10/site-packages (2.1.2)\n",
      "Requirement already satisfied: numpy in /opt/conda/lib/python3.10/site-packages (from xgboost) (1.23.5)\n",
      "Requirement already satisfied: nvidia-nccl-cu12 in /opt/conda/lib/python3.10/site-packages (from xgboost) (2.23.4)\n",
      "Requirement already satisfied: scipy in /opt/conda/lib/python3.10/site-packages (from xgboost) (1.11.3)\n",
      "\u001b[33mWARNING: Running pip as the 'root' user can result in broken permissions and conflicting behaviour with the system package manager. It is recommended to use a virtual environment instead: https://pip.pypa.io/warnings/venv\u001b[0m\u001b[33m\n",
      "\u001b[0m"
     ]
    }
   ],
   "source": [
    "\n",
    "!pip install lightgbm\n",
    "!pip install scikit-learn\n",
    "\n",
    "import sys\n",
    "!{sys.executable} -m pip install --upgrade jupyter notebook ipykernel\n",
    "\n",
    "!pip install xgboost"
   ]
  },
  {
   "cell_type": "code",
   "execution_count": 2,
   "metadata": {},
   "outputs": [],
   "source": [
    "\n",
    "import pandas as pd\n",
    "import numpy as np\n",
    "import seaborn as sns\n",
    "import matplotlib.pyplot as plt\n",
    "\n",
    "#한글 폰트 설정 - title 한글 깨짐\n",
    "plt.rc('font', family = 'NanumGothic')\n",
    "plt.rcParams['axes.unicode_minus'] = False\n",
    "\n",
    "import lightgbm\n",
    "from sklearn.metrics import r2_score\n",
    "\n",
    "from tqdm import tqdm\n",
    "\n",
    "import pickle\n",
    "import warnings;warnings.filterwarnings('ignore')\n",
    "\n",
    "from sklearn.metrics import mean_squared_error\n",
    "from sklearn.metrics import mean_absolute_error\n",
    "\n",
    "from sklearn.ensemble import RandomForestClassifier\n",
    "from sklearn.impute import SimpleImputer\n",
    "\n",
    "from sklearn.preprocessing import LabelEncoder\n",
    "from sklearn.model_selection import train_test_split"
   ]
  },
  {
   "cell_type": "code",
   "execution_count": 3,
   "metadata": {},
   "outputs": [],
   "source": [
    "load_dt = pd.read_csv('/data/ephemeral/home/train.csv')\n",
    "load_dt_test = pd.read_csv('/data/ephemeral/home/test.csv')\n",
    "\n",
    "load_dt['is_test'] = 0\n",
    "load_dt_test['is_test'] = 1\n",
    "load_dt_test['target'] = 0\n",
    "\n",
    "select_columns = ['시군구', '아파트명','전용면적(㎡)', '계약년월', '층', '건축년도', 'target', 'is_test'] \n",
    "temp = pd.concat([load_dt, load_dt_test])\n",
    "concat_data = temp[select_columns]\n"
   ]
  },
  {
   "cell_type": "code",
   "execution_count": 4,
   "metadata": {},
   "outputs": [
    {
     "name": "stdout",
     "output_type": "stream",
     "text": [
      "             시군구    아파트명   전용면적    계약년월  층  건축년도  target  is_test\n",
      "0  서울특별시 강남구 개포동  개포6차우성  79.97  201712  3  1987  124000        0\n",
      "1  서울특별시 강남구 개포동  개포6차우성  79.97  201712  4  1987  123500        0\n",
      "2  서울특별시 강남구 개포동  개포6차우성  54.98  201712  5  1987   91500        0\n",
      "3  서울특별시 강남구 개포동  개포6차우성  79.97  201801  4  1987  130000        0\n",
      "4  서울특별시 강남구 개포동  개포6차우성  79.97  201801  2  1987  117000        0\n",
      "5  서울특별시 강남구 개포동  개포6차우성  79.97  201801  1  1987  130000        0\n",
      "6  서울특별시 강남구 개포동  개포6차우성  79.97  201803  2  1987  139500        0\n",
      "7  서울특별시 강남구 개포동  개포6차우성  54.98  201804  5  1987  107500        0\n",
      "8  서울특별시 강남구 개포동  개포6차우성  79.97  201806  3  1987  145000        0\n",
      "9  서울특별시 강남구 개포동  개포6차우성  54.98  201807  3  1987  112000        0\n"
     ]
    }
   ],
   "source": [
    "#시군구, 도로명분리 및 전용면적 m2 제거\n",
    "\n",
    "# 시군구를 시, 구, 동으로 분리\n",
    "\n",
    "concat_data = concat_data.rename(columns={'전용면적(㎡)':'전용면적'})\n",
    "\n",
    "print(concat_data.head(10))"
   ]
  },
  {
   "cell_type": "code",
   "execution_count": 5,
   "metadata": {},
   "outputs": [
    {
     "name": "stdout",
     "output_type": "stream",
     "text": [
      "시군구           0\n",
      "아파트명       2136\n",
      "전용면적          0\n",
      "계약년월          0\n",
      "층             0\n",
      "건축년도          0\n",
      "target        0\n",
      "is_test       0\n",
      "dtype: int64\n"
     ]
    }
   ],
   "source": [
    "print(concat_data.isnull().sum())"
   ]
  },
  {
   "cell_type": "code",
   "execution_count": 6,
   "metadata": {},
   "outputs": [
    {
     "name": "stdout",
     "output_type": "stream",
     "text": [
      "Validation Accuracy: 0.6588\n",
      "남은 결측치 수: 0\n",
      "\n",
      "예측된 아파트명 상위 10개:\n",
      "구로두산       163\n",
      "거평프리젠      151\n",
      "한스빌        136\n",
      "리센츠        130\n",
      "대영빌라       101\n",
      "중명하니빌       95\n",
      "관악캠퍼스타워     84\n",
      "방화5         57\n",
      "성원          45\n",
      "건영          45\n",
      "Name: 아파트명, dtype: int64\n",
      "\n",
      "전체 데이터셋 아파트명 상위 10개:\n",
      "현대       16791\n",
      "신동아      12960\n",
      "한신        9139\n",
      "두산        8601\n",
      "주공2       7985\n",
      "우성        7824\n",
      "벽산        7330\n",
      "삼성래미안     7185\n",
      "대림        6349\n",
      "극동        5697\n",
      "Name: 아파트명, dtype: int64\n"
     ]
    }
   ],
   "source": [
    "# 결측치가 없는 아파트명과 있는 아파트명 데이터 분리\n",
    "apartment_name = concat_data[concat_data['아파트명'].notna()]\n",
    "no_apartment_name = concat_data[concat_data['아파트명'].isna()]\n",
    "\n",
    "# 모델에 사용할 특성 선택\n",
    "features = ['시군구', '전용면적', '건축년도']\n",
    "\n",
    "# Label Encoding 설정\n",
    "le_apt = LabelEncoder()\n",
    "le_sgg = LabelEncoder()\n",
    "\n",
    "# 아파트명 인코딩\n",
    "apartment_name['아파트명_encoded'] = le_apt.fit_transform(apartment_name['아파트명'])\n",
    "\n",
    "# 특성과 타겟 설정\n",
    "X = apartment_name[features]\n",
    "y = apartment_name['아파트명_encoded']\n",
    "\n",
    "# 시군구 인코딩\n",
    "le_sgg.fit(apartment_name['시군구'].astype(str))\n",
    "X['시군구'] = le_sgg.transform(X['시군구'].astype(str))\n",
    "\n",
    "# 결측값 대체를 위한 SimpleImputer 사용\n",
    "imputer = SimpleImputer(strategy='mean')\n",
    "X = pd.DataFrame(imputer.fit_transform(X), columns=X.columns)\n",
    "\n",
    "# 학습 및 검증 데이터 분리\n",
    "X_train, X_val, y_train, y_val = train_test_split(X, y, test_size=0.2, random_state=42)\n",
    "\n",
    "# Random Forest 모델 설정 및 훈련\n",
    "rf = RandomForestClassifier(n_estimators=50,\n",
    "                            random_state=42, \n",
    "                            n_jobs=2, \n",
    "                            max_depth=13, \n",
    "                            min_samples_split=20, \n",
    "                            min_samples_leaf=10,\n",
    "                            warm_start=False)\n",
    "rf.fit(X_train, y_train)\n",
    "\n",
    "# 검증 데이터 정확도 확인\n",
    "val_accuracy = rf.score(X_val, y_val)\n",
    "print(f\"Validation Accuracy: {val_accuracy:.4f}\")\n",
    "\n",
    "# 결측치가 있는 데이터에 대해 예측 준비\n",
    "X_missing = no_apartment_name[features]\n",
    "\n",
    "# 시군구 값이 인코더에 없는 경우 학습된 값의 첫 번째 값으로 대체\n",
    "X_missing['시군구'] = X_missing['시군구'].apply(lambda x: x if x in le_sgg.classes_ else le_sgg.classes_[0])\n",
    "X_missing['시군구'] = le_sgg.transform(X_missing['시군구'].astype(str))\n",
    "\n",
    "# 결측값 채우기 및 예측\n",
    "X_missing = pd.DataFrame(imputer.transform(X_missing), columns=X_missing.columns)\n",
    "predicted_names_encoded = rf.predict(X_missing)\n",
    "predicted_names = le_apt.inverse_transform(predicted_names_encoded)\n",
    "\n",
    "# 예측된 아파트명으로 결측치 채우기\n",
    "concat_data.loc[concat_data['아파트명'].isna(), '아파트명'] = predicted_names\n",
    "\n",
    "# 남은 결측치 확인\n",
    "print(\"남은 결측치 수:\", concat_data['아파트명'].isnull().sum())\n",
    "\n",
    "# 예측 결과 확인\n",
    "print(\"\\n예측된 아파트명 상위 10개:\")\n",
    "print(concat_data.loc[concat_data.index.isin(no_apartment_name.index), '아파트명'].value_counts().head(10))\n",
    "\n",
    "print(\"\\n전체 데이터셋 아파트명 상위 10개:\")\n",
    "print(concat_data['아파트명'].value_counts().head(10))"
   ]
  },
  {
   "cell_type": "code",
   "execution_count": 7,
   "metadata": {},
   "outputs": [
    {
     "data": {
      "text/plain": [
       "시군구        0\n",
       "아파트명       0\n",
       "전용면적       0\n",
       "계약년월       0\n",
       "층          0\n",
       "건축년도       0\n",
       "target     0\n",
       "is_test    0\n",
       "dtype: int64"
      ]
     },
     "execution_count": 7,
     "metadata": {},
     "output_type": "execute_result"
    }
   ],
   "source": [
    "concat_data.isnull().sum()  "
   ]
  },
  {
   "cell_type": "code",
   "execution_count": null,
   "metadata": {},
   "outputs": [],
   "source": []
  },
  {
   "cell_type": "code",
   "execution_count": 8,
   "metadata": {},
   "outputs": [],
   "source": [
    "# #범주형 데이터, 연속형 데이터 라벨 \n",
    "# continuous_columns = []\n",
    "# categorical_columns = []\n",
    "\n",
    "# for column in concat_data.columns:\n",
    "#     if pd.api.types.is_numeric_dtype(concat_data[column]):\n",
    "#         continuous_columns.append(column)\n",
    "#     else:\n",
    "#         categorical_columns.append(column)\n",
    "\n",
    "\n",
    "# # 범주형 변수에 대한 보간\n",
    "# concat_data[categorical_columns] = concat_data[categorical_columns].fillna('NULL')\n",
    "\n",
    "# # 연속형 변수에 대한 보간 (선형 보간)\n",
    "# concat_data[continuous_columns] = concat_data[continuous_columns].interpolate(method='linear', axis=0)\n",
    "\n",
    "# label_encoders = {}\n",
    "# # Implement Label Encoding\n",
    "# for col in tqdm(categorical_columns):\n",
    "#     lbl = LabelEncoder()\n",
    "\n",
    "#     # Label-Encoding을 fit\n",
    "#     lbl.fit( concat_data[col].astype(str) )\n",
    "#     concat_data[col] = lbl.transform(concat_data[col].astype(str))\n",
    "#     label_encoders[col] = lbl      \n",
    "\n",
    "\n",
    "for column in concat_data.columns:\n",
    "    if concat_data.dtypes[column] == 'object':\n",
    "        concat_data[column] = concat_data[column].astype('category')\n",
    "\n",
    "train_data = concat_data.query('is_test==0')\n",
    "train_data.drop(columns='is_test', inplace=True)\n",
    "\n",
    "temp_test_data =  concat_data.query('is_test==1')\n",
    "except_target_select_columns = ['시군구', '아파트명', '층', '전용면적', '계약년월', '건축년도'] \n",
    "test_data = temp_test_data[except_target_select_columns] \n",
    "\n",
    "x = train_data[except_target_select_columns]\n",
    "y = train_data['target']\n",
    "\n",
    "x_train, x_valid, y_train, y_valid = train_test_split(x, y, test_size=0.2, random_state=10)\n",
    "\n"
   ]
  },
  {
   "cell_type": "code",
   "execution_count": 9,
   "metadata": {},
   "outputs": [],
   "source": [
    "except_target_select_columns = ['시군구', '아파트명','전용면적', '계약년월', '층', '건축년도'] \n",
    "\n",
    "train_data = concat_data.query('is_test==0')\n",
    "test_data =  concat_data.query('is_test==1')\n",
    "\n",
    "x = train_data[except_target_select_columns]\n",
    "y = train_data['target']\n",
    "\n",
    "x_train, x_valid, y_train, y_valid = train_test_split(x, y, test_size=0.2, random_state=10)\n",
    "\n",
    "\n",
    "\n"
   ]
  },
  {
   "cell_type": "code",
   "execution_count": 10,
   "metadata": {},
   "outputs": [
    {
     "name": "stdout",
     "output_type": "stream",
     "text": [
      "Index(['시군구', '아파트명', '전용면적', '계약년월', '층', '건축년도', 'target', 'is_test'], dtype='object')\n",
      "Index(['시군구', '아파트명', '전용면적', '계약년월', '층', '건축년도', 'target', 'is_test'], dtype='object')\n"
     ]
    }
   ],
   "source": [
    "print(test_data.columns)\n",
    "print(train_data.columns)"
   ]
  },
  {
   "cell_type": "code",
   "execution_count": null,
   "metadata": {},
   "outputs": [],
   "source": [
    "\n"
   ]
  },
  {
   "cell_type": "code",
   "execution_count": 11,
   "metadata": {},
   "outputs": [],
   "source": [
    "\n",
    "model = lightgbm.LGBMRegressor(\n",
    "        boosting_type='gbdt',      # 기본 부스팅 방식 (gbdt는 그레디언트 부스팅 결정 트리)\n",
    "        objective='regression',    # 회귀 문제를 해결하기 위한 목적 함수 설정\n",
    "        num_leaves=100,             # 리프 노드의 최대 개수\n",
    "        learning_rate=0.1,         # 학습률 (작을수록 학습 속도가 느려짐, 과적합 방지)\n",
    "        n_estimators=10000,         # 부스팅 반복 횟수 (트리 개수)\n",
    "        max_depth=-1,              # 트리의 최대 깊이 (-1은 제한 없음)\n",
    "        min_child_samples=20,      # 리프 노드의 최소 데이터 수 (과적합 방지)\n",
    "        subsample=0.5,            # 각 트리 학습 시 사용할 샘플 비율 (0.8은 80%만 사용)\n",
    "        colsample_bytree=0.5,      # 각 트리 학습 시 사용할 특징 비율 (0.8은 80%만 사용)\n",
    "        reg_alpha=0.1,             # L1 정규화 (과적합 방지)\n",
    "        reg_lambda=0.1,             # L2 정규화 (과적합 방지)\n",
    "        max_bin = 2000\n",
    "    )\n",
    "\n"
   ]
  },
  {
   "cell_type": "code",
   "execution_count": 12,
   "metadata": {},
   "outputs": [
    {
     "name": "stdout",
     "output_type": "stream",
     "text": [
      "[LightGBM] [Warning] Categorical features with more bins than the configured maximum bin number found.\n",
      "[LightGBM] [Warning] For categorical features, max_bin and max_bin_by_feature may be ignored with a large number of categories.\n",
      "[LightGBM] [Info] Auto-choosing row-wise multi-threading, the overhead of testing was 0.001839 seconds.\n",
      "You can set `force_row_wise=true` to remove the overhead.\n",
      "And if memory is not enough, you can set `force_col_wise=true`.\n",
      "[LightGBM] [Info] Total Bins 7367\n",
      "[LightGBM] [Info] Number of data points in the train set: 895057, number of used features: 6\n",
      "[LightGBM] [Info] Start training from score 57971.762336\n"
     ]
    },
    {
     "name": "stdout",
     "output_type": "stream",
     "text": [
      "MSE: 9420863.835420586\n",
      "RMSE: 3069.342573812931\n",
      "MAE: 1868.7916888932143\n",
      "R2: 0.9956083804261004\n"
     ]
    }
   ],
   "source": [
    "model.fit(x_train, y_train)\n",
    "\n",
    "y_train_pred = model.predict(x_train)\n",
    "y_pred = model.predict(x_valid)\n",
    "\n",
    "mse = mean_squared_error(y_train_pred, y_train)\n",
    "rmse = mean_squared_error(y_train_pred, y_train, squared=False)\n",
    "mae = mean_absolute_error(y_train_pred, y_train)\n",
    "r2 = r2_score(y_train_pred, y_train)\n",
    "\n",
    "print(f\"MSE: {mse}\")\n",
    "print(f\"RMSE: {rmse}\")\n",
    "print(f\"MAE: {mae}\")\n",
    "print(f\"R2: {r2}\")"
   ]
  },
  {
   "cell_type": "code",
   "execution_count": 13,
   "metadata": {},
   "outputs": [
    {
     "name": "stdout",
     "output_type": "stream",
     "text": [
      "['시군구', '아파트명', '전용면적', '계약년월', '층', '건축년도']\n",
      "Index(['시군구', '아파트명', '전용면적', '계약년월', '층', '건축년도'], dtype='object')\n"
     ]
    }
   ],
   "source": [
    "test_data.drop(columns=['target','is_test'], axis=1, inplace=True)\n",
    "print(model.feature_name_)\n",
    "print(test_data.columns)"
   ]
  },
  {
   "cell_type": "code",
   "execution_count": 14,
   "metadata": {},
   "outputs": [
    {
     "name": "stdout",
     "output_type": "stream",
     "text": [
      "MSE: 26454375.523401327\n",
      "RMSE: 5143.3817205610285\n",
      "MAE: 2579.0762007168687\n",
      "R2: 0.9876095807774438\n"
     ]
    }
   ],
   "source": [
    "mse = mean_squared_error(y_valid, y_pred)\n",
    "rmse = mean_squared_error(y_valid, y_pred, squared=False)\n",
    "mae = mean_absolute_error(y_valid, y_pred)\n",
    "r2 = r2_score(y_valid, y_pred)\n",
    "\n",
    "print(f\"MSE: {mse}\")\n",
    "print(f\"RMSE: {rmse}\")\n",
    "print(f\"MAE: {mae}\")\n",
    "print(f\"R2: {r2}\")"
   ]
  },
  {
   "cell_type": "code",
   "execution_count": 15,
   "metadata": {},
   "outputs": [],
   "source": [
    "result = model.predict(test_data)\n"
   ]
  },
  {
   "cell_type": "code",
   "execution_count": 16,
   "metadata": {},
   "outputs": [],
   "source": [
    "\n",
    "output = pd.DataFrame(result.astype(int), columns=[\"target\"])\n",
    "output.to_csv('output1.csv', index=False)"
   ]
  }
 ],
 "metadata": {
  "kernelspec": {
   "display_name": "base",
   "language": "python",
   "name": "python3"
  },
  "language_info": {
   "codemirror_mode": {
    "name": "ipython",
    "version": 3
   },
   "file_extension": ".py",
   "mimetype": "text/x-python",
   "name": "python",
   "nbconvert_exporter": "python",
   "pygments_lexer": "ipython3",
   "version": "3.10.13"
  }
 },
 "nbformat": 4,
 "nbformat_minor": 2
}
